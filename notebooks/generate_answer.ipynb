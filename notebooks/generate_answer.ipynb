{
 "cells": [
  {
   "cell_type": "code",
   "execution_count": 31,
   "metadata": {},
   "outputs": [],
   "source": [
    "import pandas as pd\n",
    "\n",
    "csv_file_path = 'PT_validation_predictions.csv'\n",
    "data = pd.read_csv(csv_file_path)"
   ]
  },
  {
   "cell_type": "code",
   "execution_count": 32,
   "metadata": {},
   "outputs": [
    {
     "name": "stdout",
     "output_type": "stream",
     "text": [
      "TSV file saved to PT_validation_predictions_transformed.tsv\n"
     ]
    }
   ],
   "source": [
    "# Helper function to process labels\n",
    "def process_labels(label):\n",
    "    narratives = []\n",
    "    subnarratives = []\n",
    "\n",
    "    # Split by commas but ensure commas within labels are preserved\n",
    "    labels = []\n",
    "    current_label = \"\"\n",
    "    for part in label.split(','):\n",
    "        if current_label and part.lstrip().startswith('_'):\n",
    "            # Append to the current label if it's part of the same narrative\n",
    "            current_label += ',' + part\n",
    "        else:\n",
    "            if current_label:\n",
    "                labels.append(current_label)\n",
    "            current_label = part\n",
    "    if current_label:\n",
    "        labels.append(current_label)\n",
    "\n",
    "    # Process each label\n",
    "    for entry in labels:\n",
    "        if entry == \"Other__Other\":\n",
    "            # Special case: \"Other__Other\"\n",
    "            narratives.append('Other')\n",
    "            subnarratives.append('Other')\n",
    "        elif '__' in entry:\n",
    "            # Split into narrative and subnarrative\n",
    "            narrative, subnarrative = entry.split('__', 1)\n",
    "            narrative = narrative.replace('_', ' ')\n",
    "            subnarrative = subnarrative.replace('_', ' ')\n",
    "            narratives.append(narrative)\n",
    "            if subnarrative.lower() == 'other':\n",
    "                # If subnarrative is \"Other\", format it as [Narrative]: Other\n",
    "                subnarratives.append(f\"{narrative}: Other\")\n",
    "            else:\n",
    "                subnarratives.append(subnarrative)\n",
    "        elif entry.lower() == 'other':\n",
    "            # Special case: 'Other'\n",
    "            narratives.append('Other')\n",
    "            subnarratives.append('Other')\n",
    "        else:\n",
    "            # Narrative exists but no specific subnarrative\n",
    "            narrative = entry.replace('_', ' ')\n",
    "            narratives.append(narrative)\n",
    "            subnarratives.append(f\"{narrative}: Other\")\n",
    "\n",
    "    return ';'.join(narratives), ';'.join(subnarratives)\n",
    "\n",
    "# Apply the processing function to the 'predicted_labels' column\n",
    "data['narrative'], data['subnarrative'] = zip(*data['predicted_labels'].apply(process_labels))\n",
    "\n",
    "# Create the final output DataFrame\n",
    "output_data = data[['article_id', 'narrative', 'subnarrative']]\n",
    "output_data.columns = ['article_id', 'narrative_1;...;narrative_N', 'subnarrative_1;...;subnarrative_N']\n",
    "\n",
    "# Save as TSV\n",
    "output_tsv_path = 'PT_validation_predictions_transformed.tsv'\n",
    "output_data.to_csv(output_tsv_path, sep='\\t', index=False)\n",
    "\n",
    "print(f\"TSV file saved to {output_tsv_path}\")\n",
    "\n"
   ]
  },
  {
   "cell_type": "code",
   "execution_count": 5,
   "metadata": {},
   "outputs": [],
   "source": [
    "import pandas as pd\n",
    "import ast\n",
    "\n",
    "\n",
    "csv_file_path = 'gpt4o-mini_preds_dev.csv'\n",
    "data = pd.read_csv(csv_file_path)"
   ]
  },
  {
   "cell_type": "code",
   "execution_count": 6,
   "metadata": {},
   "outputs": [
    {
     "name": "stdout",
     "output_type": "stream",
     "text": [
      "TSV file saved to BG_validation_predictions_transformed_2.tsv\n",
      "TSV file saved to EN_validation_predictions_transformed_2.tsv\n",
      "TSV file saved to HI_validation_predictions_transformed_2.tsv\n",
      "TSV file saved to PT_validation_predictions_transformed_2.tsv\n"
     ]
    }
   ],
   "source": [
    "\n",
    "# Helper function to process narratives and subnarratives\n",
    "def process_narratives_and_subnarratives(p_system):\n",
    "    narratives = []\n",
    "    subnarratives = []\n",
    "    \n",
    "    # Parse the input as a dictionary\n",
    "    try:\n",
    "        parsed_data = ast.literal_eval(p_system)\n",
    "        narratives = parsed_data.get('narrative', [])\n",
    "        subnarratives = parsed_data.get('subnarrative', [])\n",
    "    except Exception as e:\n",
    "        print(f\"Error parsing p_system: {p_system}, error: {e}\")\n",
    "    \n",
    "    return ';'.join(narratives), ';'.join(subnarratives)\n",
    "\n",
    "\n",
    "# Process the p_system column\n",
    "data['narrative'], data['subnarrative'] = zip(*data['p_system'].apply(process_narratives_and_subnarratives))\n",
    "\n",
    "# Group by the 'language' column and save separate TSV files\n",
    "languages = data['language'].unique()\n",
    "for lang in languages:\n",
    "    lang_data = data[data['language'] == lang]\n",
    "    \n",
    "    # Create the final output DataFrame\n",
    "    output_data = lang_data[['article_id', 'narrative', 'subnarrative']]\n",
    "    output_data.columns = ['article_id', 'narrative_1;...;narrative_N', 'subnarrative_1;...;subnarrative_N']\n",
    "    \n",
    "    # Save as TSV\n",
    "    output_tsv_path = f'{lang}_validation_predictions_transformed_2.tsv'\n",
    "    output_data.to_csv(output_tsv_path, sep='\\t', index=False)\n",
    "    print(f\"TSV file saved to {output_tsv_path}\")\n"
   ]
  }
 ],
 "metadata": {
  "kernelspec": {
   "display_name": "Python 3",
   "language": "python",
   "name": "python3"
  },
  "language_info": {
   "codemirror_mode": {
    "name": "ipython",
    "version": 3
   },
   "file_extension": ".py",
   "mimetype": "text/x-python",
   "name": "python",
   "nbconvert_exporter": "python",
   "pygments_lexer": "ipython3",
   "version": "3.11.6"
  }
 },
 "nbformat": 4,
 "nbformat_minor": 2
}
