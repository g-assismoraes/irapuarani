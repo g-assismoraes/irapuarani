{
 "cells": [
  {
   "cell_type": "code",
   "id": "initial_id",
   "metadata": {
    "collapsed": true,
    "ExecuteTime": {
     "end_time": "2024-10-26T06:14:08.564322Z",
     "start_time": "2024-10-26T06:14:08.560170Z"
    }
   },
   "source": "import pandas as pd",
   "outputs": [],
   "execution_count": 4
  },
  {
   "metadata": {
    "ExecuteTime": {
     "end_time": "2024-10-26T06:14:40.800021Z",
     "start_time": "2024-10-26T06:14:40.789217Z"
    }
   },
   "cell_type": "code",
   "source": [
    "# RELEASE_DATA = \"sep11release\"\n",
    "RELEASE_DATA = \"oct16release\"\n",
    "# Available langs: [\"BG\", \"EN\", \"HI\", \"PT\"]\n",
    "LANGUAGE_DATA = \"PT\""
   ],
   "id": "86c3f7789fb0ec95",
   "outputs": [],
   "execution_count": 9
  },
  {
   "metadata": {
    "ExecuteTime": {
     "end_time": "2024-10-26T06:14:41.595289Z",
     "start_time": "2024-10-26T06:14:41.559006Z"
    }
   },
   "cell_type": "code",
   "source": [
    "df = pd.read_csv(f\"../data/csv/{RELEASE_DATA}_{LANGUAGE_DATA}_data.csv\")\n",
    "df"
   ],
   "id": "63d72e810e103b47",
   "outputs": [
    {
     "data": {
      "text/plain": [
       "     article_id                                            content  \\\n",
       "0    PT_161.txt  Eis as notícias depois do ciclone-bomba Ciarán...   \n",
       "1     PT_13.txt  Rússia elimina até 245 militares, várias peças...   \n",
       "2    PT_153.txt  Humanidade enfrenta 'tripla extinção' que vai ...   \n",
       "3    PT_196.txt  Primeiro protesto do Brasil na COP28 usa boto-...   \n",
       "4     PT_56.txt  Ativistas que bloquearam jato privado em Casca...   \n",
       "..          ...                                                ...   \n",
       "195  PT_159.txt  A transição energética\\n\\nMultiplicam-se os fe...   \n",
       "196   PT_91.txt  \\n\\nEspanha detém três pessoas por ataques cib...   \n",
       "197   PT_74.txt  Rússia assume controlo de mais uma povoação no...   \n",
       "198   PT_57.txt  Airbus diz que frota global pode atingir os 48...   \n",
       "199   PT_31.txt  Quais foram as consequências do ataque de Iska...   \n",
       "\n",
       "                                             narrative  \\\n",
       "0    Amplifying Climate Fears;Amplifying Climate Fears   \n",
       "1                Praise of Russia;Discrediting Ukraine   \n",
       "2    Amplifying Climate Fears;Amplifying Climate Fe...   \n",
       "3    Criticism of institutions and authorities;Ampl...   \n",
       "4    Criticism of institutions and authorities;Ampl...   \n",
       "..                                                 ...   \n",
       "195  Criticism of institutions and authorities;Crit...   \n",
       "196                               Russia is the Victim   \n",
       "197                                   Praise of Russia   \n",
       "198                                              Other   \n",
       "199  Praise of Russia;Discrediting Ukraine;Negative...   \n",
       "\n",
       "                                          subnarrative  \\\n",
       "0    Other;Amplifying existing fears of global warming   \n",
       "1    Praise of Russian military might;Discrediting ...   \n",
       "2    Earth will be uninhabitable soon;Amplifying ex...   \n",
       "3              Criticism of national governments;Other   \n",
       "4    Criticism of national governments;Amplifying e...   \n",
       "..                                                 ...   \n",
       "195  Criticism of national governments;Other;Critic...   \n",
       "196                            The West is russophobic   \n",
       "197                   Praise of Russian military might   \n",
       "198                                              Other   \n",
       "199       Praise of Russian military might;Other;Other   \n",
       "\n",
       "                                narrative_subnarrative domain  \n",
       "0    Amplifying Climate Fears: Other;Amplifying Cli...     CC  \n",
       "1    Praise of Russia: Praise of Russian military m...    URW  \n",
       "2    Amplifying Climate Fears: Earth will be uninha...     CC  \n",
       "3    Criticism of institutions and authorities: Cri...     CC  \n",
       "4    Criticism of institutions and authorities: Cri...     CC  \n",
       "..                                                 ...    ...  \n",
       "195  Criticism of institutions and authorities: Cri...     CC  \n",
       "196      Russia is the Victim: The West is russophobic    URW  \n",
       "197  Praise of Russia: Praise of Russian military m...    URW  \n",
       "198                                      O: t: h: e: r    NaN  \n",
       "199  Praise of Russia: Praise of Russian military m...    URW  \n",
       "\n",
       "[200 rows x 6 columns]"
      ],
      "text/html": [
       "<div>\n",
       "<style scoped>\n",
       "    .dataframe tbody tr th:only-of-type {\n",
       "        vertical-align: middle;\n",
       "    }\n",
       "\n",
       "    .dataframe tbody tr th {\n",
       "        vertical-align: top;\n",
       "    }\n",
       "\n",
       "    .dataframe thead th {\n",
       "        text-align: right;\n",
       "    }\n",
       "</style>\n",
       "<table border=\"1\" class=\"dataframe\">\n",
       "  <thead>\n",
       "    <tr style=\"text-align: right;\">\n",
       "      <th></th>\n",
       "      <th>article_id</th>\n",
       "      <th>content</th>\n",
       "      <th>narrative</th>\n",
       "      <th>subnarrative</th>\n",
       "      <th>narrative_subnarrative</th>\n",
       "      <th>domain</th>\n",
       "    </tr>\n",
       "  </thead>\n",
       "  <tbody>\n",
       "    <tr>\n",
       "      <th>0</th>\n",
       "      <td>PT_161.txt</td>\n",
       "      <td>Eis as notícias depois do ciclone-bomba Ciarán...</td>\n",
       "      <td>Amplifying Climate Fears;Amplifying Climate Fears</td>\n",
       "      <td>Other;Amplifying existing fears of global warming</td>\n",
       "      <td>Amplifying Climate Fears: Other;Amplifying Cli...</td>\n",
       "      <td>CC</td>\n",
       "    </tr>\n",
       "    <tr>\n",
       "      <th>1</th>\n",
       "      <td>PT_13.txt</td>\n",
       "      <td>Rússia elimina até 245 militares, várias peças...</td>\n",
       "      <td>Praise of Russia;Discrediting Ukraine</td>\n",
       "      <td>Praise of Russian military might;Discrediting ...</td>\n",
       "      <td>Praise of Russia: Praise of Russian military m...</td>\n",
       "      <td>URW</td>\n",
       "    </tr>\n",
       "    <tr>\n",
       "      <th>2</th>\n",
       "      <td>PT_153.txt</td>\n",
       "      <td>Humanidade enfrenta 'tripla extinção' que vai ...</td>\n",
       "      <td>Amplifying Climate Fears;Amplifying Climate Fe...</td>\n",
       "      <td>Earth will be uninhabitable soon;Amplifying ex...</td>\n",
       "      <td>Amplifying Climate Fears: Earth will be uninha...</td>\n",
       "      <td>CC</td>\n",
       "    </tr>\n",
       "    <tr>\n",
       "      <th>3</th>\n",
       "      <td>PT_196.txt</td>\n",
       "      <td>Primeiro protesto do Brasil na COP28 usa boto-...</td>\n",
       "      <td>Criticism of institutions and authorities;Ampl...</td>\n",
       "      <td>Criticism of national governments;Other</td>\n",
       "      <td>Criticism of institutions and authorities: Cri...</td>\n",
       "      <td>CC</td>\n",
       "    </tr>\n",
       "    <tr>\n",
       "      <th>4</th>\n",
       "      <td>PT_56.txt</td>\n",
       "      <td>Ativistas que bloquearam jato privado em Casca...</td>\n",
       "      <td>Criticism of institutions and authorities;Ampl...</td>\n",
       "      <td>Criticism of national governments;Amplifying e...</td>\n",
       "      <td>Criticism of institutions and authorities: Cri...</td>\n",
       "      <td>CC</td>\n",
       "    </tr>\n",
       "    <tr>\n",
       "      <th>...</th>\n",
       "      <td>...</td>\n",
       "      <td>...</td>\n",
       "      <td>...</td>\n",
       "      <td>...</td>\n",
       "      <td>...</td>\n",
       "      <td>...</td>\n",
       "    </tr>\n",
       "    <tr>\n",
       "      <th>195</th>\n",
       "      <td>PT_159.txt</td>\n",
       "      <td>A transição energética\\n\\nMultiplicam-se os fe...</td>\n",
       "      <td>Criticism of institutions and authorities;Crit...</td>\n",
       "      <td>Criticism of national governments;Other;Critic...</td>\n",
       "      <td>Criticism of institutions and authorities: Cri...</td>\n",
       "      <td>CC</td>\n",
       "    </tr>\n",
       "    <tr>\n",
       "      <th>196</th>\n",
       "      <td>PT_91.txt</td>\n",
       "      <td>\\n\\nEspanha detém três pessoas por ataques cib...</td>\n",
       "      <td>Russia is the Victim</td>\n",
       "      <td>The West is russophobic</td>\n",
       "      <td>Russia is the Victim: The West is russophobic</td>\n",
       "      <td>URW</td>\n",
       "    </tr>\n",
       "    <tr>\n",
       "      <th>197</th>\n",
       "      <td>PT_74.txt</td>\n",
       "      <td>Rússia assume controlo de mais uma povoação no...</td>\n",
       "      <td>Praise of Russia</td>\n",
       "      <td>Praise of Russian military might</td>\n",
       "      <td>Praise of Russia: Praise of Russian military m...</td>\n",
       "      <td>URW</td>\n",
       "    </tr>\n",
       "    <tr>\n",
       "      <th>198</th>\n",
       "      <td>PT_57.txt</td>\n",
       "      <td>Airbus diz que frota global pode atingir os 48...</td>\n",
       "      <td>Other</td>\n",
       "      <td>Other</td>\n",
       "      <td>O: t: h: e: r</td>\n",
       "      <td>NaN</td>\n",
       "    </tr>\n",
       "    <tr>\n",
       "      <th>199</th>\n",
       "      <td>PT_31.txt</td>\n",
       "      <td>Quais foram as consequências do ataque de Iska...</td>\n",
       "      <td>Praise of Russia;Discrediting Ukraine;Negative...</td>\n",
       "      <td>Praise of Russian military might;Other;Other</td>\n",
       "      <td>Praise of Russia: Praise of Russian military m...</td>\n",
       "      <td>URW</td>\n",
       "    </tr>\n",
       "  </tbody>\n",
       "</table>\n",
       "<p>200 rows × 6 columns</p>\n",
       "</div>"
      ]
     },
     "execution_count": 10,
     "metadata": {},
     "output_type": "execute_result"
    }
   ],
   "execution_count": 10
  },
  {
   "metadata": {
    "ExecuteTime": {
     "end_time": "2024-10-26T06:15:46.019939Z",
     "start_time": "2024-10-26T06:15:46.014534Z"
    }
   },
   "cell_type": "code",
   "source": "df[\"article_id\"][0]",
   "id": "7c013a5aa3c7fa97",
   "outputs": [
    {
     "data": {
      "text/plain": [
       "'PT_161.txt'"
      ]
     },
     "execution_count": 15,
     "metadata": {},
     "output_type": "execute_result"
    }
   ],
   "execution_count": 15
  },
  {
   "metadata": {
    "ExecuteTime": {
     "end_time": "2024-10-26T06:15:52.931369Z",
     "start_time": "2024-10-26T06:15:52.927200Z"
    }
   },
   "cell_type": "code",
   "source": "df[\"content\"][0]",
   "id": "387830e9e81b6271",
   "outputs": [
    {
     "data": {
      "text/plain": [
       "\"Eis as notícias depois do ciclone-bomba Ciarán: Portugal tem 'condições físicas para que as tempestades aumentem de frequência e amplitude'\\n\\n'Quanto mais quente está o oceano, mais energia está disponível para a atmosfera poder desenvolver estas depressões muito cavadas com impactos significativos.' E como 'o oceano é muito lento', as consequências a prolongam-se no tempo.\\n\\nPortugal tem 'condições físicas para que as tempestades aumentem de frequência e amplitude'. A tempestade Ciarán, que chegou à Europa como um ciclone-bomba, não é a primeira do género a abater-se sobre o solo português, mas é provável que fenómenos destes se tornem mais frequentes. De resto, o fim de semana deve trazer outra tempestade, que até já tem nome - Domingos.\\n\\nO geofísico e ex-presidente do Instituto Português do Mar e da Atmosfera (IPMA) Miguel Miranda alerta, em declarações à CNN Portugal, para a dimensão das tempestades em causa. 'É muito interessante do ponto de vista físico mas muito alarmante do ponto de vista social', sublinha, notando que nos países mais afetados, como França, registaram-se ventos de 200 km/h, um valor altamente significativo e que é extremamente raro em solo europeu.\\n\\nMiguel Miranda explica que, sobretudo devido ao aquecimento global - que vai provocar um aquecimento dos oceanos -, é natural que fenómenos destes ocorram com maior frequência e intensidade. 'Quanto mais quente está o oceano, mais energia está disponível para a atmosfera poder desenvolver estas depressões muito cavadas com impactos significativos nas construções e nas pessoas', acrescenta o geofísico.\\n\\nE, apesar de o pior já ter passado, é de esperar que ainda se notem vários efeitos nos próximos dias, pelo menos até ao fim de semana. Isto porque 'o oceano é muito lento', o que leva as consequências a prolongarem-se no tempo, mesmo depois da passagem do sistema que provoca a tempestade.\\n\\n'Isso leva a restrições na costa, até porque existe uma segunda tempestade oceânica este fim de semana que vai tornar mais difícil a vida nas comunidades litorais', vinca Miguel Miranda.\\n\\nO especialista pede, por isso, que as pessoas cumpram à risca as recomendações do IPMA, que emitiu um aviso vermelho para grande parte do litoral, deixando ainda um aviso laranja em toda a costa pelo menos.\\n\\n'É importante que se perceba que vamos ter um novo máximo na agitação marítima. Quando se indica uma ondulação de oito metros de altura, isso quer dizer que 10% das ondas podem ter mais de 16 metros. Quando existe um aviso vermelho emitido pelo IPMA é para ser cumprido estritamente porque os perigos que existem são muitos', reitera Miguel Miranda.\\n\\nSobre os efeitos que estes ciclones-bomba podem provocar, Miguel Miranda diz que 'os portugueses têm alguma experiência de tornados, sistemas de outra dimensão', mas alerta para os impactos que o vento e a chuva podem ter, sobretudo nas zonas mais perto da costeira. Basta ver o que aconteceu em 1941, quando os registos do IPMA assinalaram o primeiro ciclone-bomba em solo nacional.\\n\\n'Quando os ventos atingem velocidades desta grandeza levantam objetos, destroem árvores. A ação combinada do vento e da chuva é muito impactante - as árvores de grande porte que caem nas zonas urbanas são capazes de destruir habitações e veículos', conclui o geofísico.\""
      ]
     },
     "execution_count": 16,
     "metadata": {},
     "output_type": "execute_result"
    }
   ],
   "execution_count": 16
  },
  {
   "metadata": {
    "ExecuteTime": {
     "end_time": "2024-10-26T06:15:04.110473Z",
     "start_time": "2024-10-26T06:15:04.102166Z"
    }
   },
   "cell_type": "code",
   "outputs": [
    {
     "data": {
      "text/plain": [
       "['Amplifying Climate Fears', 'Amplifying Climate Fears']"
      ]
     },
     "execution_count": 11,
     "metadata": {},
     "output_type": "execute_result"
    }
   ],
   "execution_count": 11,
   "source": "df[\"narrative\"][0].split(';')",
   "id": "8ca85cf53cc090c"
  },
  {
   "metadata": {
    "ExecuteTime": {
     "end_time": "2024-10-26T06:15:10.947990Z",
     "start_time": "2024-10-26T06:15:10.942643Z"
    }
   },
   "cell_type": "code",
   "source": "df[\"narrative\"][0]",
   "id": "7cc7bc1a06d9d365",
   "outputs": [
    {
     "data": {
      "text/plain": [
       "'Amplifying Climate Fears;Amplifying Climate Fears'"
      ]
     },
     "execution_count": 12,
     "metadata": {},
     "output_type": "execute_result"
    }
   ],
   "execution_count": 12
  },
  {
   "metadata": {
    "ExecuteTime": {
     "end_time": "2024-10-26T06:15:17.174522Z",
     "start_time": "2024-10-26T06:15:17.164120Z"
    }
   },
   "cell_type": "code",
   "source": "df[\"narrative_subnarrative\"][0].split(';')",
   "id": "704e72c04b5621d",
   "outputs": [
    {
     "data": {
      "text/plain": [
       "['Amplifying Climate Fears: Other',\n",
       " 'Amplifying Climate Fears: Amplifying existing fears of global warming']"
      ]
     },
     "execution_count": 13,
     "metadata": {},
     "output_type": "execute_result"
    }
   ],
   "execution_count": 13
  },
  {
   "metadata": {
    "ExecuteTime": {
     "end_time": "2024-10-26T06:15:24.220655Z",
     "start_time": "2024-10-26T06:15:24.215945Z"
    }
   },
   "cell_type": "code",
   "source": "df[\"narrative_subnarrative\"][0]",
   "id": "c22b1c2f131819d8",
   "outputs": [
    {
     "data": {
      "text/plain": [
       "'Amplifying Climate Fears: Other;Amplifying Climate Fears: Amplifying existing fears of global warming'"
      ]
     },
     "execution_count": 14,
     "metadata": {},
     "output_type": "execute_result"
    }
   ],
   "execution_count": 14
  },
  {
   "metadata": {
    "ExecuteTime": {
     "end_time": "2024-10-26T06:16:31.170361Z",
     "start_time": "2024-10-26T06:16:31.157159Z"
    }
   },
   "cell_type": "code",
   "source": "df[\"domain\"][0]",
   "id": "1d012b521131c59f",
   "outputs": [
    {
     "data": {
      "text/plain": [
       "'CC'"
      ]
     },
     "execution_count": 17,
     "metadata": {},
     "output_type": "execute_result"
    }
   ],
   "execution_count": 17
  },
  {
   "metadata": {},
   "cell_type": "code",
   "outputs": [],
   "execution_count": null,
   "source": "",
   "id": "61536594f51eeb0f"
  }
 ],
 "metadata": {
  "kernelspec": {
   "display_name": "Python 3",
   "language": "python",
   "name": "python3"
  },
  "language_info": {
   "codemirror_mode": {
    "name": "ipython",
    "version": 2
   },
   "file_extension": ".py",
   "mimetype": "text/x-python",
   "name": "python",
   "nbconvert_exporter": "python",
   "pygments_lexer": "ipython2",
   "version": "2.7.6"
  }
 },
 "nbformat": 4,
 "nbformat_minor": 5
}
