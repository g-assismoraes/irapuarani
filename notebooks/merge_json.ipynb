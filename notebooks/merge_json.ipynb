{
 "cells": [
  {
   "cell_type": "code",
   "execution_count": 65,
   "metadata": {},
   "outputs": [],
   "source": [
    "import pandas as pd\n",
    "import json\n",
    "import re"
   ]
  },
  {
   "cell_type": "code",
   "execution_count": 66,
   "metadata": {},
   "outputs": [],
   "source": [
    "RELEASE_DATA = \"oct16release\"\n",
    "LANGUAGES = [\"BG\", \"EN\", \"HI\", \"PT\"]"
   ]
  },
  {
   "cell_type": "code",
   "execution_count": 67,
   "metadata": {},
   "outputs": [],
   "source": [
    "all_data = []\n",
    "\n",
    "for language in LANGUAGES:\n",
    "    file_path = f\"../data/json/{RELEASE_DATA}_{language}_data.jsonl\"\n",
    "    with open(file_path, \"r\", encoding=\"utf-8\") as file:\n",
    "        for line in file:\n",
    "            # Parse each line as JSON\n",
    "            data = json.loads(line)\n",
    "            # Combine narratives and subnarratives, replacing spaces with underscores\n",
    "            combined_labels = [\n",
    "                f\"{narrative.replace(' ', '_')}__{subnarrative.replace(' ', '_')}\"\n",
    "                for narrative, subnarrative in zip(data[\"labels\"][\"narrative\"], data[\"labels\"][\"subnarrative\"])\n",
    "            ]\n",
    "            # Add the combined labels as a new column\n",
    "            data[\"label\"] = combined_labels\n",
    "            \n",
    "            match = re.search(r'(BG|EN|HI|PT)', data[\"article_id\"])\n",
    "            data[\"language\"] = match.group(0) if match else \"Unknown\"\n",
    "            # Add the data to the list\n",
    "            all_data.append(data)\n",
    "\n",
    "\n",
    "df = pd.DataFrame(all_data)\n"
   ]
  },
  {
   "cell_type": "code",
   "execution_count": 68,
   "metadata": {},
   "outputs": [
    {
     "data": {
      "text/html": [
       "<div>\n",
       "<style scoped>\n",
       "    .dataframe tbody tr th:only-of-type {\n",
       "        vertical-align: middle;\n",
       "    }\n",
       "\n",
       "    .dataframe tbody tr th {\n",
       "        vertical-align: top;\n",
       "    }\n",
       "\n",
       "    .dataframe thead th {\n",
       "        text-align: right;\n",
       "    }\n",
       "</style>\n",
       "<table border=\"1\" class=\"dataframe\">\n",
       "  <thead>\n",
       "    <tr style=\"text-align: right;\">\n",
       "      <th></th>\n",
       "      <th>article_id</th>\n",
       "      <th>content</th>\n",
       "      <th>domain</th>\n",
       "      <th>labels</th>\n",
       "      <th>label</th>\n",
       "      <th>language</th>\n",
       "    </tr>\n",
       "  </thead>\n",
       "  <tbody>\n",
       "    <tr>\n",
       "      <th>0</th>\n",
       "      <td>BG_670.txt</td>\n",
       "      <td>Опитът на колективния Запад да „обезкърви Руси...</td>\n",
       "      <td>URW</td>\n",
       "      <td>{'narrative': ['Blaming the war on others rath...</td>\n",
       "      <td>[Blaming_the_war_on_others_rather_than_the_inv...</td>\n",
       "      <td>BG</td>\n",
       "    </tr>\n",
       "    <tr>\n",
       "      <th>1</th>\n",
       "      <td>A9_BG_5871.txt</td>\n",
       "      <td>Зверство! Руснаците започнаха да режат глави н...</td>\n",
       "      <td></td>\n",
       "      <td>{'narrative': ['Other'], 'subnarrative': ['Oth...</td>\n",
       "      <td>[Other__Other]</td>\n",
       "      <td>BG</td>\n",
       "    </tr>\n",
       "    <tr>\n",
       "      <th>2</th>\n",
       "      <td>BG_3245.txt</td>\n",
       "      <td>Подкрепата за Киев от страна на Запада вече не...</td>\n",
       "      <td>URW</td>\n",
       "      <td>{'narrative': ['Discrediting the West, Diploma...</td>\n",
       "      <td>[Discrediting_the_West,_Diplomacy__The_West_is...</td>\n",
       "      <td>BG</td>\n",
       "    </tr>\n",
       "    <tr>\n",
       "      <th>3</th>\n",
       "      <td>A9_BG_5190.txt</td>\n",
       "      <td>Дмитрий Медведев: НПО-та, спонсорирани от Соро...</td>\n",
       "      <td>URW</td>\n",
       "      <td>{'narrative': ['Discrediting the West, Diploma...</td>\n",
       "      <td>[Discrediting_the_West,_Diplomacy__Other, Disc...</td>\n",
       "      <td>BG</td>\n",
       "    </tr>\n",
       "    <tr>\n",
       "      <th>4</th>\n",
       "      <td>A9_BG_8210.txt</td>\n",
       "      <td>Украйна – след войната\\n\\nДори след края на во...</td>\n",
       "      <td>URW</td>\n",
       "      <td>{'narrative': ['Speculating war outcomes'], 's...</td>\n",
       "      <td>[Speculating_war_outcomes__Other]</td>\n",
       "      <td>BG</td>\n",
       "    </tr>\n",
       "    <tr>\n",
       "      <th>...</th>\n",
       "      <td>...</td>\n",
       "      <td>...</td>\n",
       "      <td>...</td>\n",
       "      <td>...</td>\n",
       "      <td>...</td>\n",
       "      <td>...</td>\n",
       "    </tr>\n",
       "    <tr>\n",
       "      <th>721</th>\n",
       "      <td>PT_159.txt</td>\n",
       "      <td>A transição energética\\n\\nMultiplicam-se os fe...</td>\n",
       "      <td>CC</td>\n",
       "      <td>{'narrative': ['Criticism of institutions and ...</td>\n",
       "      <td>[Criticism_of_institutions_and_authorities__Cr...</td>\n",
       "      <td>PT</td>\n",
       "    </tr>\n",
       "    <tr>\n",
       "      <th>722</th>\n",
       "      <td>PT_91.txt</td>\n",
       "      <td>\\n\\nEspanha detém três pessoas por ataques cib...</td>\n",
       "      <td>URW</td>\n",
       "      <td>{'narrative': ['Russia is the Victim'], 'subna...</td>\n",
       "      <td>[Russia_is_the_Victim__The_West_is_russophobic]</td>\n",
       "      <td>PT</td>\n",
       "    </tr>\n",
       "    <tr>\n",
       "      <th>723</th>\n",
       "      <td>PT_74.txt</td>\n",
       "      <td>Rússia assume controlo de mais uma povoação no...</td>\n",
       "      <td>URW</td>\n",
       "      <td>{'narrative': ['Praise of Russia'], 'subnarrat...</td>\n",
       "      <td>[Praise_of_Russia__Praise_of_Russian_military_...</td>\n",
       "      <td>PT</td>\n",
       "    </tr>\n",
       "    <tr>\n",
       "      <th>724</th>\n",
       "      <td>PT_57.txt</td>\n",
       "      <td>Airbus diz que frota global pode atingir os 48...</td>\n",
       "      <td></td>\n",
       "      <td>{'narrative': ['Other'], 'subnarrative': ['Oth...</td>\n",
       "      <td>[Other__Other]</td>\n",
       "      <td>PT</td>\n",
       "    </tr>\n",
       "    <tr>\n",
       "      <th>725</th>\n",
       "      <td>PT_31.txt</td>\n",
       "      <td>Quais foram as consequências do ataque de Iska...</td>\n",
       "      <td>URW</td>\n",
       "      <td>{'narrative': ['Praise of Russia', 'Discrediti...</td>\n",
       "      <td>[Praise_of_Russia__Praise_of_Russian_military_...</td>\n",
       "      <td>PT</td>\n",
       "    </tr>\n",
       "  </tbody>\n",
       "</table>\n",
       "<p>726 rows × 6 columns</p>\n",
       "</div>"
      ],
      "text/plain": [
       "         article_id                                            content domain  \\\n",
       "0        BG_670.txt  Опитът на колективния Запад да „обезкърви Руси...    URW   \n",
       "1    A9_BG_5871.txt  Зверство! Руснаците започнаха да режат глави н...          \n",
       "2       BG_3245.txt  Подкрепата за Киев от страна на Запада вече не...    URW   \n",
       "3    A9_BG_5190.txt  Дмитрий Медведев: НПО-та, спонсорирани от Соро...    URW   \n",
       "4    A9_BG_8210.txt  Украйна – след войната\\n\\nДори след края на во...    URW   \n",
       "..              ...                                                ...    ...   \n",
       "721      PT_159.txt  A transição energética\\n\\nMultiplicam-se os fe...     CC   \n",
       "722       PT_91.txt  \\n\\nEspanha detém três pessoas por ataques cib...    URW   \n",
       "723       PT_74.txt  Rússia assume controlo de mais uma povoação no...    URW   \n",
       "724       PT_57.txt  Airbus diz que frota global pode atingir os 48...          \n",
       "725       PT_31.txt  Quais foram as consequências do ataque de Iska...    URW   \n",
       "\n",
       "                                                labels  \\\n",
       "0    {'narrative': ['Blaming the war on others rath...   \n",
       "1    {'narrative': ['Other'], 'subnarrative': ['Oth...   \n",
       "2    {'narrative': ['Discrediting the West, Diploma...   \n",
       "3    {'narrative': ['Discrediting the West, Diploma...   \n",
       "4    {'narrative': ['Speculating war outcomes'], 's...   \n",
       "..                                                 ...   \n",
       "721  {'narrative': ['Criticism of institutions and ...   \n",
       "722  {'narrative': ['Russia is the Victim'], 'subna...   \n",
       "723  {'narrative': ['Praise of Russia'], 'subnarrat...   \n",
       "724  {'narrative': ['Other'], 'subnarrative': ['Oth...   \n",
       "725  {'narrative': ['Praise of Russia', 'Discrediti...   \n",
       "\n",
       "                                                 label language  \n",
       "0    [Blaming_the_war_on_others_rather_than_the_inv...       BG  \n",
       "1                                       [Other__Other]       BG  \n",
       "2    [Discrediting_the_West,_Diplomacy__The_West_is...       BG  \n",
       "3    [Discrediting_the_West,_Diplomacy__Other, Disc...       BG  \n",
       "4                    [Speculating_war_outcomes__Other]       BG  \n",
       "..                                                 ...      ...  \n",
       "721  [Criticism_of_institutions_and_authorities__Cr...       PT  \n",
       "722    [Russia_is_the_Victim__The_West_is_russophobic]       PT  \n",
       "723  [Praise_of_Russia__Praise_of_Russian_military_...       PT  \n",
       "724                                     [Other__Other]       PT  \n",
       "725  [Praise_of_Russia__Praise_of_Russian_military_...       PT  \n",
       "\n",
       "[726 rows x 6 columns]"
      ]
     },
     "execution_count": 68,
     "metadata": {},
     "output_type": "execute_result"
    }
   ],
   "source": [
    "df"
   ]
  },
  {
   "cell_type": "code",
   "execution_count": 69,
   "metadata": {},
   "outputs": [
    {
     "data": {
      "text/plain": [
       "0    [Blaming_the_war_on_others_rather_than_the_inv...\n",
       "1                                       [Other__Other]\n",
       "2    [Discrediting_the_West,_Diplomacy__The_West_is...\n",
       "3    [Discrediting_the_West,_Diplomacy__Other, Disc...\n",
       "4                    [Speculating_war_outcomes__Other]\n",
       "Name: label, dtype: object"
      ]
     },
     "execution_count": 69,
     "metadata": {},
     "output_type": "execute_result"
    }
   ],
   "source": [
    "df['label'].head()"
   ]
  },
  {
   "cell_type": "code",
   "execution_count": 70,
   "metadata": {},
   "outputs": [
    {
     "data": {
      "text/plain": [
       "{'narrative': ['Blaming the war on others rather than the invader',\n",
       "  'Discrediting the West, Diplomacy',\n",
       "  'Discrediting the West, Diplomacy',\n",
       "  'Amplifying war-related fears'],\n",
       " 'subnarrative': ['The West are the aggressors',\n",
       "  'Other',\n",
       "  'The West does not care about Ukraine, only about its interests',\n",
       "  'Other']}"
      ]
     },
     "execution_count": 70,
     "metadata": {},
     "output_type": "execute_result"
    }
   ],
   "source": [
    "df['labels'][0]"
   ]
  },
  {
   "cell_type": "code",
   "execution_count": 71,
   "metadata": {},
   "outputs": [
    {
     "data": {
      "text/plain": [
       "['Blaming_the_war_on_others_rather_than_the_invader__The_West_are_the_aggressors',\n",
       " 'Discrediting_the_West,_Diplomacy__Other',\n",
       " 'Discrediting_the_West,_Diplomacy__The_West_does_not_care_about_Ukraine,_only_about_its_interests',\n",
       " 'Amplifying_war-related_fears__Other']"
      ]
     },
     "execution_count": 71,
     "metadata": {},
     "output_type": "execute_result"
    }
   ],
   "source": [
    "df['label'][0]"
   ]
  },
  {
   "cell_type": "code",
   "execution_count": 72,
   "metadata": {},
   "outputs": [
    {
     "data": {
      "text/plain": [
       "BG    211\n",
       "EN    200\n",
       "PT    200\n",
       "HI    115\n",
       "Name: language, dtype: int64"
      ]
     },
     "execution_count": 72,
     "metadata": {},
     "output_type": "execute_result"
    }
   ],
   "source": [
    "df['language'].value_counts()"
   ]
  },
  {
   "cell_type": "code",
   "execution_count": 73,
   "metadata": {},
   "outputs": [],
   "source": [
    "output_file_path = \"../data/merged_dataframe_with_language.csv\"\n",
    "df.to_csv(output_file_path, index=False)"
   ]
  }
 ],
 "metadata": {
  "kernelspec": {
   "display_name": "Python 3",
   "language": "python",
   "name": "python3"
  },
  "language_info": {
   "codemirror_mode": {
    "name": "ipython",
    "version": 3
   },
   "file_extension": ".py",
   "mimetype": "text/x-python",
   "name": "python",
   "nbconvert_exporter": "python",
   "pygments_lexer": "ipython3",
   "version": "3.11.6"
  }
 },
 "nbformat": 4,
 "nbformat_minor": 2
}
