{
 "cells": [
  {
   "cell_type": "code",
   "execution_count": 4,
   "metadata": {},
   "outputs": [],
   "source": [
    "import ast\n",
    "import pandas as pd\n",
    "from sklearn.model_selection import StratifiedKFold\n",
    "from datasets import Dataset"
   ]
  },
  {
   "cell_type": "code",
   "execution_count": 5,
   "metadata": {},
   "outputs": [],
   "source": [
    "# ==========================\n",
    "# Configuration Variables\n",
    "# ==========================\n",
    "INPUT_FILE_PATH = \"../data/merged_dataframe_with_language.csv\"  # Input file path\n",
    "NUM_FOLDS = 5  # Number of folds for cross-validation\n",
    "SEED = 42  # Random seed for reproducibility"
   ]
  },
  {
   "cell_type": "code",
   "execution_count": 6,
   "metadata": {},
   "outputs": [],
   "source": [
    "# Load the DataFrame\n",
    "df = pd.read_csv(INPUT_FILE_PATH)\n",
    "\n",
    "# Filter the DataFrame to only Portuguese (\"PT\") entries\n",
    "\n",
    "# Prepare the text and labels\n",
    "texts = df[\"content\"].tolist()\n",
    "\n",
    "# Convert 'domain' into three categories: 'UKR', 'CC', and 'Other'\n",
    "df['label'] = df['domain'].apply(lambda x: 0 if x == \"URW\" else 1 if x == \"CC\" else 2)\n",
    "labels = df['label'].tolist()\n",
    "\n",
    "NUM_LABELS = 3  # For ternary classification: UKR, CC, Other"
   ]
  },
  {
   "cell_type": "code",
   "execution_count": 7,
   "metadata": {},
   "outputs": [
    {
     "name": "stdout",
     "output_type": "stream",
     "text": [
      "\n",
      "Fold 1/5\n",
      "Language distribution in validation set: {'BG': 49, 'PT': 39, 'EN': 35, 'HI': 23}\n",
      "Label distribution in validation set: {0: 86, 2: 30, 1: 30}\n",
      "\n",
      "Fold 2/5\n",
      "Language distribution in validation set: {'EN': 49, 'PT': 38, 'BG': 35, 'HI': 23}\n",
      "Label distribution in validation set: {0: 86, 2: 30, 1: 29}\n",
      "\n",
      "Fold 3/5\n",
      "Language distribution in validation set: {'EN': 44, 'PT': 41, 'BG': 37, 'HI': 23}\n",
      "Label distribution in validation set: {0: 86, 1: 30, 2: 29}\n",
      "\n",
      "Fold 4/5\n",
      "Language distribution in validation set: {'PT': 43, 'EN': 41, 'BG': 38, 'HI': 23}\n",
      "Label distribution in validation set: {0: 86, 1: 30, 2: 29}\n",
      "\n",
      "Fold 5/5\n",
      "Language distribution in validation set: {'BG': 52, 'PT': 39, 'EN': 31, 'HI': 23}\n",
      "Label distribution in validation set: {0: 86, 1: 30, 2: 29}\n"
     ]
    }
   ],
   "source": [
    "# Stratified K-Fold Cross-Validation\n",
    "skf = StratifiedKFold(n_splits=NUM_FOLDS, shuffle=True, random_state=SEED)\n",
    "\n",
    "# Summary of each fold\n",
    "for fold, (train_idx, val_idx) in enumerate(skf.split(texts, labels), start=1):\n",
    "    # Split data for the current fold\n",
    "    train_df = df.iloc[train_idx]\n",
    "    val_df = df.iloc[val_idx]\n",
    "    \n",
    "    # Language distribution in validation set\n",
    "    lang_counts = val_df[\"language\"].value_counts().to_dict()\n",
    "    \n",
    "    # Label distribution in validation set\n",
    "    label_counts = val_df[\"label\"].value_counts().to_dict()\n",
    "    \n",
    "    print(f\"\\nFold {fold}/{NUM_FOLDS}\")\n",
    "    print(\"Language distribution in validation set:\", lang_counts)\n",
    "    print(\"Label distribution in validation set:\", label_counts)"
   ]
  }
 ],
 "metadata": {
  "kernelspec": {
   "display_name": "Python 3",
   "language": "python",
   "name": "python3"
  },
  "language_info": {
   "codemirror_mode": {
    "name": "ipython",
    "version": 3
   },
   "file_extension": ".py",
   "mimetype": "text/x-python",
   "name": "python",
   "nbconvert_exporter": "python",
   "pygments_lexer": "ipython3",
   "version": "3.11.6"
  }
 },
 "nbformat": 4,
 "nbformat_minor": 2
}
