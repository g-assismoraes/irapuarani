{
 "cells": [
  {
   "cell_type": "code",
   "execution_count": 8,
   "metadata": {},
   "outputs": [],
   "source": [
    "war = [\n",
    "    \"Blaming_the_war_on_others__Ukraine_is_the_aggressor\",\n",
    "    \"Blaming_the_war_on_others__The_West_are_the_aggressors\",\n",
    "    \"Blaming_the_war_on_others__Other\",\n",
    "    \"Discrediting_Ukraine__Rewriting_Ukraine’s_history\",\n",
    "    \"Discrediting_Ukraine__Discrediting_Ukrainian_nation_and_society\",\n",
    "    \"Discrediting_Ukraine__Discrediting_Ukrainian_military\",\n",
    "    \"Discrediting_Ukraine__Discrediting_Ukrainian_government_and_officials_and_policies\",\n",
    "    \"Discrediting_Ukraine__Ukraine_is_a_puppet_of_the_West\",\n",
    "    \"Discrediting_Ukraine__Ukraine_is_a_hub_for_criminal_activities\",\n",
    "    \"Discrediting_Ukraine__Ukraine_is_associated_with_nazism\",\n",
    "    \"Discrediting_Ukraine__Situation_in_Ukraine_is_hopeless\",\n",
    "    \"Discrediting_Ukraine__Other\",\n",
    "    \"Russia_is_the_Victim__The_West_is_russophobic\",\n",
    "    \"Russia_is_the_Victim__Russia_actions_in_Ukraine_are_only_self-defence\",\n",
    "    \"Russia_is_the_Victim__UA_is_anti-RU_extremists\",\n",
    "    \"Russia_is_the_Victim__Other\",\n",
    "    \"Praise_of_Russia__Praise_of_Russian_military_might\",\n",
    "    \"Praise_of_Russia__Praise_of_Russian_President_Vladimir_Putin\",\n",
    "    \"Praise_of_Russia__Russia_is_a_guarantor_of_peace_and_prosperity\",\n",
    "    \"Praise_of_Russia__Russia_has_international_support_from_a_number_of_countries_and_people\",\n",
    "    \"Praise_of_Russia__Russian_invasion_has_strong_national_support\",\n",
    "    \"Praise_of_Russia__Other\",\n",
    "    \"Overpraising_the_West__NATO_will_destroy_Russia\",\n",
    "    \"Overpraising_the_West__The_West_belongs_in_the_right_side_of_history\",\n",
    "    \"Overpraising_the_West__The_West_has_the_strongest_international_support\",\n",
    "    \"Overpraising_the_West__Other\",\n",
    "    \"Speculating_war_outcomes__Russian_army_is_collapsing\",\n",
    "    \"Speculating_war_outcomes__Russian_army_will_lose_all_the_occupied_territories\",\n",
    "    \"Speculating_war_outcomes__Ukrainian_army_is_collapsing\",\n",
    "    \"Speculating_war_outcomes__Other\",\n",
    "    \"Discrediting_the_West,_Diplomacy__The_EU_is_divided\",\n",
    "    \"Discrediting_the_West,_Diplomacy__The_West_is_weak\",\n",
    "    \"Discrediting_the_West,_Diplomacy__The_West_is_overreacting\",\n",
    "    \"Discrediting_the_West,_Diplomacy__The_West_does_not_care_about_Ukraine,_only_about_its_interests\",\n",
    "    \"Discrediting_the_West,_Diplomacy__Diplomacy_does/will_not_work\",\n",
    "    \"Discrediting_the_West,_Diplomacy__West_is_tired_of_Ukraine\",\n",
    "    \"Discrediting_the_West,_Diplomacy__Other\",\n",
    "    \"Negative_Consequences_for_the_West__Sanctions_imposed_by_Western_countries_will_backfire\",\n",
    "    \"Negative_Consequences_for_the_West__The_conflict_will_increase_the_Ukrainian_refugee_flows_to_Europe\",\n",
    "    \"Negative_Consequences_for_the_West__Other\",\n",
    "    \"Distrust_towards_Media__Western_media_is_an_instrument_of_propaganda\",\n",
    "    \"Distrust_towards_Media__Ukrainian_media_cannot_be_trusted\",\n",
    "    \"Distrust_towards_Media__Other\",\n",
    "    \"Amplifying_war-related_fears__By_continuing_the_war_we_risk_WWIII\",\n",
    "    \"Amplifying_war-related_fears__Russia_will_also_attack_other_countries\",\n",
    "    \"Amplifying_war-related_fears__There_is_a_real_possibility_that_nuclear_weapons_will_be_employed\",\n",
    "    \"Amplifying_war-related_fears__NATO_should/will_directly_intervene\",\n",
    "    \"Amplifying_war-related_fears__Other\",\n",
    "    \"Other__Other\"\n",
    "]\n"
   ]
  },
  {
   "cell_type": "code",
   "execution_count": 9,
   "metadata": {},
   "outputs": [],
   "source": [
    "climate = [\n",
    "    \"Criticism_of_climate_policies__Climate_policies_are_ineffective\",\n",
    "    \"Criticism_of_climate_policies__Climate_policies_have_negative_impact_on_the_economy\",\n",
    "    \"Criticism_of_climate_policies__Climate_policies_are_only_for_profit\",\n",
    "    \"Criticism_of_climate_policies__Other\",\n",
    "    \"Criticism_of_institutions_and_authorities__Criticism_of_the_EU\",\n",
    "    \"Criticism_of_institutions_and_authorities__Criticism_of_international_entities\",\n",
    "    \"Criticism_of_institutions_and_authorities__Criticism_of_national_governments\",\n",
    "    \"Criticism_of_institutions_and_authorities__Criticism_of_political_organizations_and_figures\",\n",
    "    \"Criticism_of_institutions_and_authorities__Other\",\n",
    "    \"Climate_change_is_beneficial__CO2_is_beneficial\",\n",
    "    \"Climate_change_is_beneficial__Temperature_increase_is_beneficial\",\n",
    "    \"Climate_change_is_beneficial__Other\",\n",
    "    \"Downplaying_climate_change__Climate_cycles_are_natural\",\n",
    "    \"Downplaying_climate_change__Weather_suggests_the_trend_is_global_cooling\",\n",
    "    \"Downplaying_climate_change__Temperature_increase_does_not_have_significant_impact\",\n",
    "    \"Downplaying_climate_change__CO2_concentrations_are_too_small_to_have_an_impact\",\n",
    "    \"Downplaying_climate_change__Human_activities_do_not_impact_climate_change\",\n",
    "    \"Downplaying_climate_change__Ice_is_not_melting\",\n",
    "    \"Downplaying_climate_change__Sea_levels_are_not_rising\",\n",
    "    \"Downplaying_climate_change__Humans_and_nature_will_adapt_to_the_changes\",\n",
    "    \"Downplaying_climate_change__Other\",\n",
    "    \"Questioning_the_measurements_and_science__Methodologies/metrics_used_are_unreliable/faulty\",\n",
    "    \"Questioning_the_measurements_and_science__Data_shows_no_temperature_increase\",\n",
    "    \"Questioning_the_measurements_and_science__Greenhouse_effect/carbon_dioxide_do_not_drive_climate_change\",\n",
    "    \"Questioning_the_measurements_and_science__Scientific_community_is_unreliable\",\n",
    "    \"Questioning_the_measurements_and_science__Other\",\n",
    "    \"Criticism_of_climate_movement__Climate_movement_is_alarmist\",\n",
    "    \"Criticism_of_climate_movement__Climate_movement_is_corrupt\",\n",
    "    \"Criticism_of_climate_movement__Ad_hominem_attacks_on_key_activists\",\n",
    "    \"Criticism_of_climate_movement__Other\",\n",
    "    \"Controversy_about_green_technologies__Renewable_energy_is_dangerous\",\n",
    "    \"Controversy_about_green_technologies__Renewable_energy_is_unreliable\",\n",
    "    \"Controversy_about_green_technologies__Renewable_energy_is_costly\",\n",
    "    \"Controversy_about_green_technologies__Nuclear_energy_is_not_climate_friendly\",\n",
    "    \"Controversy_about_green_technologies__Other\",\n",
    "    \"Hidden_plots_by_secret_schemes_of_powerful_groups__Blaming_global_elites\",\n",
    "    \"Hidden_plots_by_secret_schemes_of_powerful_groups__Climate_agenda_has_hidden_motives\",\n",
    "    \"Hidden_plots_by_secret_schemes_of_powerful_groups__Other\",\n",
    "    \"Amplifying_Climate_Fears__Earth_will_be_uninhabitable_soon\",\n",
    "    \"Amplifying_Climate_Fears__Amplifying_existing_fears_of_global_warming\",\n",
    "    \"Amplifying_Climate_Fears__Doomsday_scenarios_for_humans\",\n",
    "    \"Amplifying_Climate_Fears__Whatever_we_do_it_is_already_too_late\",\n",
    "    \"Amplifying_Climate_Fears__Other\",\n",
    "    \"Green_policies_are_geopolitical_instruments__Climate-related_international_relations_are_abusive/exploitative\",\n",
    "    \"Green_policies_are_geopolitical_instruments__Green_activities_are_a_form_of_neo-colonialism\",\n",
    "    \"Green_policies_are_geopolitical_instruments__Other\"\n",
    "]\n"
   ]
  },
  {
   "cell_type": "code",
   "execution_count": 10,
   "metadata": {},
   "outputs": [
    {
     "name": "stdout",
     "output_type": "stream",
     "text": [
      "95\n"
     ]
    }
   ],
   "source": [
    "labels = war + climate\n",
    "print(len(labels))"
   ]
  },
  {
   "cell_type": "code",
   "execution_count": 11,
   "metadata": {},
   "outputs": [],
   "source": [
    "import pandas as pd\n",
    "df_all_combinations = pd.DataFrame(labels, columns=[\"Combination\"])\n",
    "\n",
    "\n",
    "output_file_path = \"../data/all_narrative_combinations.csv\"\n",
    "df_all_combinations.to_csv(output_file_path, index=False)\n"
   ]
  }
 ],
 "metadata": {
  "kernelspec": {
   "display_name": "Python 3",
   "language": "python",
   "name": "python3"
  },
  "language_info": {
   "codemirror_mode": {
    "name": "ipython",
    "version": 3
   },
   "file_extension": ".py",
   "mimetype": "text/x-python",
   "name": "python",
   "nbconvert_exporter": "python",
   "pygments_lexer": "ipython3",
   "version": "3.11.6"
  }
 },
 "nbformat": 4,
 "nbformat_minor": 2
}
